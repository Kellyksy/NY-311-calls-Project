{
 "cells": [
  {
   "cell_type": "code",
   "execution_count": 1,
   "id": "17f28164-ec91-4871-9054-8ff4e4f2512e",
   "metadata": {},
   "outputs": [],
   "source": [
    "import pickle as pkl\n",
    "import pandas as pd\n",
    "with open('Project-3_NYC_311_Calls.pkl', \"rb\") as f:\n",
    "    object = pkl.load(f)"
   ]
  },
  {
   "cell_type": "code",
   "execution_count": 2,
   "id": "55660724-5680-4847-a925-f9816966e3eb",
   "metadata": {},
   "outputs": [],
   "source": [
    "data = pd.DataFrame(object)"
   ]
  },
  {
   "cell_type": "code",
   "execution_count": 28,
   "id": "29c597df-050c-49c7-84d1-816aeb863fb5",
   "metadata": {},
   "outputs": [
    {
     "data": {
      "text/plain": [
       "8684.320547945206"
      ]
     },
     "execution_count": 28,
     "metadata": {},
     "output_type": "execute_result"
    }
   ],
   "source": [
    "# Convert datetime format\n",
    "data['Created Date'] = pd.to_datetime(data['Created Date'], errors='coerce')\n",
    "\n",
    "# Filt year 2022\n",
    "data_2022 = data[data['Created Date'].dt.year == 2022]\n",
    "\n",
    "# Resample (daily)\n",
    "daily_complaints_2022 = data_2022.resample('D', on='Created Date')['Unique Key'].count()\n",
    "\n",
    "# Calculate average\n",
    "average_daily_complaints_2022 = daily_complaints_2022.mean()\n",
    "average_daily_complaints_2022\n"
   ]
  },
  {
   "cell_type": "code",
   "execution_count": 29,
   "id": "023c4580-3a18-4ac7-a9ab-14e47d01d0da",
   "metadata": {},
   "outputs": [
    {
     "data": {
      "text/plain": [
       "(Timestamp('2020-08-04 00:00:00'), 24415)"
      ]
     },
     "execution_count": 29,
     "metadata": {},
     "output_type": "execute_result"
    }
   ],
   "source": [
    "# Find the date with the maximum number of complaints\n",
    "max_complaints_date = daily_complaints.idxmax()\n",
    "max_complaints_count = daily_complaints.max()\n",
    "\n",
    "max_complaints_date, max_complaints_count\n"
   ]
  },
  {
   "cell_type": "code",
   "execution_count": 30,
   "id": "542f4a4d-9fa8-479e-a238-7649fe6a8fdc",
   "metadata": {},
   "outputs": [
    {
     "data": {
      "text/plain": [
       "('Damaged Tree', 14863)"
      ]
     },
     "execution_count": 30,
     "metadata": {},
     "output_type": "execute_result"
    }
   ],
   "source": [
    "# Filter data for the date with the maximum number of complaints\n",
    "data_max_complaints = data[data['Created Date'].dt.date == max_complaints_date.date()]\n",
    "\n",
    "# Count the number of each type of complaint on this date\n",
    "most_common_complaint = data_max_complaints['Complaint Type'].value_counts().idxmax()\n",
    "most_common_complaint_count = data_max_complaints['Complaint Type'].value_counts().max()\n",
    "\n",
    "most_common_complaint, most_common_complaint_count\n"
   ]
  },
  {
   "cell_type": "code",
   "execution_count": 32,
   "id": "ad082656-47be-4ee9-9f4f-4435adc7f566",
   "metadata": {},
   "outputs": [
    {
     "data": {
      "text/plain": [
       "(12, 2596986)"
      ]
     },
     "execution_count": 32,
     "metadata": {},
     "output_type": "execute_result"
    }
   ],
   "source": [
    "# Month\n",
    "monthly_complaints_by_month = data.groupby(data['Created Date'].dt.month)['Unique Key'].count()\n",
    "\n",
    "# Find the month with the fewest number of complaints\n",
    "quietest_month_by_month = monthly_complaints_by_month.idxmin()\n",
    "fewest_complaints_by_month = monthly_complaints_by_month.min()\n",
    "\n",
    "quietest_month_by_month, fewest_complaints_by_month\n"
   ]
  },
  {
   "cell_type": "code",
   "execution_count": 3,
   "id": "1ec1d912-c989-470a-a028-b60897c93113",
   "metadata": {},
   "outputs": [
    {
     "data": {
      "text/plain": [
       "(182.69763790386224, 183)"
      ]
     },
     "execution_count": 3,
     "metadata": {},
     "output_type": "execute_result"
    }
   ],
   "source": [
    "from statsmodels.tsa.seasonal import seasonal_decompose\n",
    "\n",
    "# Resample (daily)\n",
    "daily_complaints_full = data.resample('D', on='Created Date')['Unique Key'].count().fillna(0)\n",
    "# Perform ETS decomposition\n",
    "ets_decomposition = seasonal_decompose(daily_complaints_full, model='additive', period=7)\n",
    "# Extract the seasonal component\n",
    "seasonal_component = ets_decomposition.seasonal\n",
    "# Value of 2020-12-25\n",
    "seasonal_value_2020_12_25 = seasonal_component['2020-12-25']\n",
    "seasonal_value_2020_12_25, round(seasonal_value_2020_12_25)\n"
   ]
  },
  {
   "cell_type": "code",
   "execution_count": 39,
   "id": "00e7bf0f-a51a-43a3-828c-797105fe94a7",
   "metadata": {},
   "outputs": [
    {
     "data": {
      "text/plain": [
       "0.7517059728398578"
      ]
     },
     "execution_count": 39,
     "metadata": {},
     "output_type": "execute_result"
    }
   ],
   "source": [
    "autocorrelation_lag_1 = daily_complaints_full.autocorr(lag=1)\n",
    "autocorrelation_lag_1"
   ]
  },
  {
   "cell_type": "code",
   "execution_count": 8,
   "id": "1c62d74c-01d6-4ce1-91d8-0acb1cfb4d05",
   "metadata": {
    "scrolled": true
   },
   "outputs": [
    {
     "name": "stderr",
     "output_type": "stream",
     "text": [
      "00:17:09 - cmdstanpy - INFO - Chain [1] start processing\n",
      "00:17:09 - cmdstanpy - INFO - Chain [1] done processing\n"
     ]
    },
    {
     "data": {
      "text/plain": [
       "1231.3215094072907"
      ]
     },
     "execution_count": 8,
     "metadata": {},
     "output_type": "execute_result"
    }
   ],
   "source": [
    "from prophet import Prophet\n",
    "from sklearn.metrics import mean_squared_error\n",
    "import numpy as np\n",
    "\n",
    "prophet_df = daily_complaints_full.reset_index().rename(columns={'Created Date': 'ds', 'Unique Key': 'y'})\n",
    "\n",
    "# Split training and testing sets\n",
    "train_df = prophet_df.iloc[:-90]\n",
    "test_df = prophet_df.iloc[-90:]\n",
    "\n",
    "# Fit Prophet model\n",
    "model = Prophet()\n",
    "model.fit(train_df)\n",
    "\n",
    "# Predict\n",
    "future = model.make_future_dataframe(periods=90)\n",
    "forecast = model.predict(future)\n",
    "\n",
    "\n",
    "# RMSE\n",
    "from sklearn.metrics import mean_squared_error\n",
    "rmse = np.sqrt(mean_squared_error(test_df['y'], forecast['yhat'][-90:]))\n",
    "\n",
    "rmse"
   ]
  },
  {
   "cell_type": "code",
   "execution_count": 9,
   "id": "82792ebf-3724-49bf-9826-8f9215e94c63",
   "metadata": {},
   "outputs": [
    {
     "name": "stdout",
     "output_type": "stream",
     "text": [
      "<class 'pandas.core.frame.DataFrame'>\n",
      "RangeIndex: 33780977 entries, 0 to 33780976\n",
      "Data columns (total 12 columns):\n",
      " #   Column                  Dtype         \n",
      "---  ------                  -----         \n",
      " 0   Unique Key              int64         \n",
      " 1   Created Date            datetime64[ns]\n",
      " 2   Agency                  object        \n",
      " 3   Agency Name             object        \n",
      " 4   Complaint Type          object        \n",
      " 5   Descriptor              object        \n",
      " 6   Location Type           object        \n",
      " 7   Incident Zip            object        \n",
      " 8   City                    object        \n",
      " 9   Resolution Description  object        \n",
      " 10  Borough                 object        \n",
      " 11  Open Data Channel Type  object        \n",
      "dtypes: datetime64[ns](1), int64(1), object(10)\n",
      "memory usage: 3.0+ GB\n"
     ]
    },
    {
     "data": {
      "text/plain": [
       "((Timestamp('2010-01-01 00:00:00'), Timestamp('2023-08-04 12:00:00')),\n",
       " Complaint Type\n",
       " Noise - Residential    3131834\n",
       " Illegal Parking        2110646\n",
       " HEAT/HOT WATER         1983520\n",
       " Blocked Driveway       1439795\n",
       " Street Condition       1212154\n",
       " Name: count, dtype: int64,\n",
       " 14137788      The Department of Sanitation removed the items.\n",
       " 21252101    The Department of Housing Preservation and Dev...\n",
       " 12431738    The Department of Sanitation collected the E-w...\n",
       " 16032665    The Police Department responded to the complai...\n",
       " 15422914    The Police Department responded to the complai...\n",
       " Name: Resolution Description, dtype: object,\n",
       " None,\n",
       "           Unique Key                   Created Date    Agency  \\\n",
       " count   3.378098e+07                       33780977  33780977   \n",
       " unique           NaN                            NaN        36   \n",
       " top              NaN                            NaN      NYPD   \n",
       " freq             NaN                            NaN  10038478   \n",
       " mean    3.802665e+07  2017-06-24 23:32:20.293824512       NaN   \n",
       " min     1.056422e+07            2010-01-01 00:00:00       NaN   \n",
       " 25%     2.793121e+07            2014-04-08 10:35:34       NaN   \n",
       " 50%     3.798303e+07            2017-11-14 12:46:13       NaN   \n",
       " 75%     4.830951e+07            2020-12-02 07:49:48       NaN   \n",
       " max     5.840682e+07            2023-08-04 12:00:00       NaN   \n",
       " std     1.209574e+07                            NaN       NaN   \n",
       " \n",
       "                             Agency Name       Complaint Type  \\\n",
       " count                          33780977             33780977   \n",
       " unique                             1888                  485   \n",
       " top     New York City Police Department  Noise - Residential   \n",
       " freq                           10036657              3131834   \n",
       " mean                                NaN                  NaN   \n",
       " min                                 NaN                  NaN   \n",
       " 25%                                 NaN                  NaN   \n",
       " 50%                                 NaN                  NaN   \n",
       " 75%                                 NaN                  NaN   \n",
       " max                                 NaN                  NaN   \n",
       " std                                 NaN                  NaN   \n",
       " \n",
       "               Descriptor         Location Type  Incident Zip      City  \\\n",
       " count           33194300              26640403    32273019.0  31799313   \n",
       " unique              1933                   230        3711.0      2749   \n",
       " top     Loud Music/Party  RESIDENTIAL BUILDING       10466.0  BROOKLYN   \n",
       " freq             3434608               7930163      393432.0   9966291   \n",
       " mean                 NaN                   NaN           NaN       NaN   \n",
       " min                  NaN                   NaN           NaN       NaN   \n",
       " 25%                  NaN                   NaN           NaN       NaN   \n",
       " 50%                  NaN                   NaN           NaN       NaN   \n",
       " 75%                  NaN                   NaN           NaN       NaN   \n",
       " max                  NaN                   NaN           NaN       NaN   \n",
       " std                  NaN                   NaN           NaN       NaN   \n",
       " \n",
       "                                    Resolution Description   Borough  \\\n",
       " count                                            32526087  33733903   \n",
       " unique                                               1978         6   \n",
       " top     The Police Department responded to the complai...  BROOKLYN   \n",
       " freq                                              3229873  10058133   \n",
       " mean                                                  NaN       NaN   \n",
       " min                                                   NaN       NaN   \n",
       " 25%                                                   NaN       NaN   \n",
       " 50%                                                   NaN       NaN   \n",
       " 75%                                                   NaN       NaN   \n",
       " max                                                   NaN       NaN   \n",
       " std                                                   NaN       NaN   \n",
       " \n",
       "        Open Data Channel Type  \n",
       " count                33780977  \n",
       " unique                      5  \n",
       " top                     PHONE  \n",
       " freq                 15434544  \n",
       " mean                      NaN  \n",
       " min                       NaN  \n",
       " 25%                       NaN  \n",
       " 50%                       NaN  \n",
       " 75%                       NaN  \n",
       " max                       NaN  \n",
       " std                       NaN  )"
      ]
     },
     "execution_count": 9,
     "metadata": {},
     "output_type": "execute_result"
    }
   ],
   "source": [
    "# Summary of the dataset \n",
    "date_range = (data['Created Date'].min(), data['Created Date'].max())\n",
    "\n",
    "# Types of complaints and the most common ones\n",
    "complaint_types = data['Complaint Type'].value_counts()\n",
    "\n",
    "# Resolution descriptions\n",
    "sample_resolutions = data['Resolution Description'].sample(5, random_state=1)\n",
    "\n",
    "# General information including NaN values\n",
    "data_info = data.info()\n",
    "data_description = data.describe(include='all')\n",
    "\n",
    "date_range, complaint_types.head(), sample_resolutions, data_info, data_description\n"
   ]
  }
 ],
 "metadata": {
  "kernelspec": {
   "display_name": "Python 3 (ipykernel)",
   "language": "python",
   "name": "python3"
  },
  "language_info": {
   "codemirror_mode": {
    "name": "ipython",
    "version": 3
   },
   "file_extension": ".py",
   "mimetype": "text/x-python",
   "name": "python",
   "nbconvert_exporter": "python",
   "pygments_lexer": "ipython3",
   "version": "3.11.7"
  }
 },
 "nbformat": 4,
 "nbformat_minor": 5
}
